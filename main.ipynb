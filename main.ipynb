{
 "cells": [
  {
   "cell_type": "code",
   "execution_count": null,
   "id": "cd13e4bc",
   "metadata": {},
   "outputs": [],
   "source": []
  },
  {
   "cell_type": "code",
   "execution_count": 2,
   "id": "3de7fbea",
   "metadata": {},
   "outputs": [
    {
     "name": "stdout",
     "output_type": "stream",
     "text": [
      "Press any key to outline again.\n",
      "Press Q to quit the program or Press C to restart the program\n",
      "Press any key to outline again.\n",
      "Press Q to quit the program or Press C to restart the program\n",
      "Program Closed\n"
     ]
    }
   ],
   "source": [
    "import cv2\n",
    "from rembg import remove\n",
    "import numpy as np\n",
    "import keyboard\n",
    "\n",
    "#loading images\n",
    "mypath = \"./TEST IMAGES/\"\n",
    "\n",
    "\n",
    "def Selection() : \n",
    "    img = cv2.imread(mypath + \"2.jpg\")\n",
    "    image = cv2.resize(img, (1070, 600), interpolation = cv2.INTER_AREA) #For Ease in cropping\n",
    " \n",
    "    iftrue = False\n",
    "    while iftrue == False:\n",
    "        r = cv2.selectROI(\"select the area\", image.copy(), False,)\n",
    "        cropped_image = image.copy()[int(r[1]):int(r[1]+r[3]),\n",
    "                                     int(r[0]):int(r[0]+r[2])]\n",
    "#         print('dimensions: {}'.format(r))\n",
    "\n",
    "        dimensions = format(r)\n",
    "        toInt = eval(dimensions)\n",
    "        x1,y1,w,h = toInt\n",
    "\n",
    "        x2=x1+w\n",
    "        y2=y1+h\n",
    "\n",
    "        output_path = 'output.png'\n",
    "\n",
    "        output = remove(cropped_image)\n",
    "                            \n",
    "\n",
    "        gray= cv2.cvtColor(output, cv2.COLOR_BGR2GRAY)\n",
    "        contours, hierarchy= cv2.findContours(gray.copy(), cv2.RETR_EXTERNAL, cv2.CHAIN_APPROX_NONE)\n",
    "\n",
    "        finalImg= cv2.drawContours(image[y1:y2, x1:x2], contours, -1, (0,255,0),3)\n",
    "        cv2.destroyAllWindows()\n",
    "        print('Press any key to outline again.\\nPress Q to quit the program or Press C to restart the program')\n",
    "\n",
    "        if keyboard.read_key() == \"q\":\n",
    "            print('Program Closed')\n",
    "            iftrue = True\n",
    "            cv2.imwrite('Saved Image.jpg', image )\n",
    "            cv2.destroyAllWindows()\n",
    "            break\n",
    "        if keyboard.read_key() == \"c\":\n",
    "            cv2.imwrite('Saved Image.jpg', image )\n",
    "            print('Program Restarted') \n",
    "            cv2.destroyAllWindows()\n",
    "            Selection()\n",
    "            iftrue= False\n",
    "            break\n",
    "Selection()"
   ]
  }
 ],
 "metadata": {
  "kernelspec": {
   "display_name": "Python 3 (ipykernel)",
   "language": "python",
   "name": "python3"
  },
  "language_info": {
   "codemirror_mode": {
    "name": "ipython",
    "version": 3
   },
   "file_extension": ".py",
   "mimetype": "text/x-python",
   "name": "python",
   "nbconvert_exporter": "python",
   "pygments_lexer": "ipython3",
   "version": "3.9.7"
  }
 },
 "nbformat": 4,
 "nbformat_minor": 5
}
